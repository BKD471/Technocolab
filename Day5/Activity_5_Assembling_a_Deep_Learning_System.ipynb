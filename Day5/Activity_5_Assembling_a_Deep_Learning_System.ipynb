{
  "nbformat": 4,
  "nbformat_minor": 0,
  "metadata": {
    "kernelspec": {
      "display_name": "Python 3",
      "language": "python",
      "name": "python3"
    },
    "language_info": {
      "codemirror_mode": {
        "name": "ipython",
        "version": 3
      },
      "file_extension": ".py",
      "mimetype": "text/x-python",
      "name": "python",
      "nbconvert_exporter": "python",
      "pygments_lexer": "ipython3",
      "version": "3.6.6"
    },
    "colab": {
      "name": "Activity_5_Assembling_a_Deep_Learning_System.ipynb",
      "provenance": [],
      "toc_visible": true
    },
    "accelerator": "GPU"
  },
  "cells": [
    {
      "cell_type": "markdown",
      "metadata": {
        "id": "OpQlOAFRm5ml"
      },
      "source": [
        "# Activity 5: Assembling a Deep Learning System\n",
        "In this activity, we will train the first version of our LSTM model using Bitcoin daily closing prices. These prices will be organized using the weeks of both 2016 and 2017. We do that because we are interested in predicting the prices of a week's worth of trading."
      ]
    },
    {
      "cell_type": "code",
      "metadata": {
        "id": "JUFe91RYm5mv",
        "outputId": "c972e14d-d204-4d8b-80b9-eeeb2809ec61",
        "colab": {
          "base_uri": "https://localhost:8080/",
          "height": 35
        }
      },
      "source": [
        "%autosave 5\n",
        "\n",
        "#  Import necessary libraries\n",
        "import numpy as np\n",
        "import pandas as pd\n",
        "import matplotlib.pyplot as plt\n",
        "%matplotlib inline\n",
        "plt.style.use('seaborn-white')\n",
        "\n",
        "from keras.models import load_model"
      ],
      "execution_count": 1,
      "outputs": [
        {
          "output_type": "display_data",
          "data": {
            "application/javascript": [
              "IPython.notebook.set_autosave_interval(5000)"
            ]
          },
          "metadata": {
            "tags": []
          }
        },
        {
          "output_type": "stream",
          "text": [
            "Autosaving every 5 seconds\n"
          ],
          "name": "stdout"
        }
      ]
    },
    {
      "cell_type": "code",
      "metadata": {
        "id": "0WzfS6zrm5nD",
        "outputId": "46045fa2-ffa6-4b37-a8eb-6e1119b8c227",
        "colab": {
          "base_uri": "https://localhost:8080/",
          "height": 305
        }
      },
      "source": [
        "#  Import training dataset\n",
        "train = pd.read_csv('/content/train_dataset.csv')\n",
        "train.head()"
      ],
      "execution_count": 2,
      "outputs": [
        {
          "output_type": "execute_result",
          "data": {
            "text/html": [
              "<div>\n",
              "<style scoped>\n",
              "    .dataframe tbody tr th:only-of-type {\n",
              "        vertical-align: middle;\n",
              "    }\n",
              "\n",
              "    .dataframe tbody tr th {\n",
              "        vertical-align: top;\n",
              "    }\n",
              "\n",
              "    .dataframe thead th {\n",
              "        text-align: right;\n",
              "    }\n",
              "</style>\n",
              "<table border=\"1\" class=\"dataframe\">\n",
              "  <thead>\n",
              "    <tr style=\"text-align: right;\">\n",
              "      <th></th>\n",
              "      <th>date</th>\n",
              "      <th>iso_week</th>\n",
              "      <th>close</th>\n",
              "      <th>volume</th>\n",
              "      <th>close_point_relative_normalization</th>\n",
              "      <th>volume_point_relative_normalization</th>\n",
              "    </tr>\n",
              "  </thead>\n",
              "  <tbody>\n",
              "    <tr>\n",
              "      <th>0</th>\n",
              "      <td>2016-01-01</td>\n",
              "      <td>2016-00</td>\n",
              "      <td>434.33</td>\n",
              "      <td>36278900.0</td>\n",
              "      <td>0.000000</td>\n",
              "      <td>0.000000</td>\n",
              "    </tr>\n",
              "    <tr>\n",
              "      <th>1</th>\n",
              "      <td>2016-01-02</td>\n",
              "      <td>2016-00</td>\n",
              "      <td>433.44</td>\n",
              "      <td>30096600.0</td>\n",
              "      <td>-0.002049</td>\n",
              "      <td>-0.170410</td>\n",
              "    </tr>\n",
              "    <tr>\n",
              "      <th>2</th>\n",
              "      <td>2016-01-03</td>\n",
              "      <td>2016-01</td>\n",
              "      <td>430.01</td>\n",
              "      <td>39633800.0</td>\n",
              "      <td>0.000000</td>\n",
              "      <td>0.000000</td>\n",
              "    </tr>\n",
              "    <tr>\n",
              "      <th>3</th>\n",
              "      <td>2016-01-04</td>\n",
              "      <td>2016-01</td>\n",
              "      <td>433.09</td>\n",
              "      <td>38477500.0</td>\n",
              "      <td>0.007163</td>\n",
              "      <td>-0.029175</td>\n",
              "    </tr>\n",
              "    <tr>\n",
              "      <th>4</th>\n",
              "      <td>2016-01-05</td>\n",
              "      <td>2016-01</td>\n",
              "      <td>431.96</td>\n",
              "      <td>34522600.0</td>\n",
              "      <td>0.004535</td>\n",
              "      <td>-0.128961</td>\n",
              "    </tr>\n",
              "  </tbody>\n",
              "</table>\n",
              "</div>"
            ],
            "text/plain": [
              "         date  ... volume_point_relative_normalization\n",
              "0  2016-01-01  ...                            0.000000\n",
              "1  2016-01-02  ...                           -0.170410\n",
              "2  2016-01-03  ...                            0.000000\n",
              "3  2016-01-04  ...                           -0.029175\n",
              "4  2016-01-05  ...                           -0.128961\n",
              "\n",
              "[5 rows x 6 columns]"
            ]
          },
          "metadata": {
            "tags": []
          },
          "execution_count": 2
        }
      ]
    },
    {
      "cell_type": "markdown",
      "metadata": {
        "id": "sHX9H-otm5n3"
      },
      "source": [
        "## Reshape Data"
      ]
    },
    {
      "cell_type": "code",
      "metadata": {
        "id": "aOqoumbbm5n6"
      },
      "source": [
        "def create_groups(data, group_size=7):\n",
        "    \"\"\"Create distinct groups from a continuous series.\n",
        "    \n",
        "    Parameters\n",
        "    ----------\n",
        "    data: np.array\n",
        "        Series of continious observations.\n",
        "\n",
        "    group_size: int, default 7\n",
        "        Determines how large the groups are. That is,\n",
        "        how many observations each group contains.\n",
        "    \n",
        "    Returns\n",
        "    -------\n",
        "    A Numpy array object. \n",
        "    \"\"\"\n",
        "    samples = []\n",
        "    for i in range(0, len(data), group_size):\n",
        "        sample = list(data[i:i + group_size])\n",
        "        if len(sample) == group_size:\n",
        "            samples.append(np.array(sample).reshape(1, group_size))\n",
        "    \n",
        "    return np.array(samples)"
      ],
      "execution_count": 3,
      "outputs": []
    },
    {
      "cell_type": "code",
      "metadata": {
        "id": "yVYMVaKjm5qN",
        "outputId": "6a0e4e17-8305-4a4e-fb28-8d14c549ce7a",
        "colab": {
          "base_uri": "https://localhost:8080/",
          "height": 35
        }
      },
      "source": [
        "#  Find the remainder when the number of observations is divided by group size\n",
        "len(train) % 7"
      ],
      "execution_count": 4,
      "outputs": [
        {
          "output_type": "execute_result",
          "data": {
            "text/plain": [
              "2"
            ]
          },
          "metadata": {
            "tags": []
          },
          "execution_count": 4
        }
      ]
    },
    {
      "cell_type": "code",
      "metadata": {
        "id": "69FBg365m5rE",
        "outputId": "54d0abc2-ecd5-4a4d-de6c-82583a1b98bd",
        "colab": {
          "base_uri": "https://localhost:8080/",
          "height": 35
        }
      },
      "source": [
        "#  Create groups of 7 from our data.\n",
        "#  We drop the first two observations so that the\n",
        "#  number of total observations is divisible by the `group_size`.\n",
        "data = create_groups(train['close_point_relative_normalization'][2:].values)\n",
        "print(data.shape)"
      ],
      "execution_count": 5,
      "outputs": [
        {
          "output_type": "stream",
          "text": [
            "(77, 1, 7)\n"
          ],
          "name": "stdout"
        }
      ]
    },
    {
      "cell_type": "code",
      "metadata": {
        "id": "YKzATcU-m5rZ",
        "outputId": "574193b1-ff7a-472d-ba2f-db3ae0b04e55",
        "colab": {
          "base_uri": "https://localhost:8080/",
          "height": 54
        }
      },
      "source": [
        "#  Reshape data into format expected by LSTM layer\n",
        "X_train = data[:-1, :].reshape(1, 76, 7)\n",
        "Y_validation = data[-1].reshape(1, 7)\n",
        "print(X_train.shape)\n",
        "print(Y_validation.shape)"
      ],
      "execution_count": 6,
      "outputs": [
        {
          "output_type": "stream",
          "text": [
            "(1, 76, 7)\n",
            "(1, 7)\n"
          ],
          "name": "stdout"
        }
      ]
    },
    {
      "cell_type": "markdown",
      "metadata": {
        "id": "H0Ok7Lvkm5r0"
      },
      "source": [
        "## Load Our Model"
      ]
    },
    {
      "cell_type": "code",
      "metadata": {
        "id": "pXAuUUYAm5r9"
      },
      "source": [
        "#  Load our previously trained model \n",
        "model = load_model('bitcoin_lstm_v0.h5')"
      ],
      "execution_count": 7,
      "outputs": []
    },
    {
      "cell_type": "markdown",
      "metadata": {
        "id": "RtfGy21nm5tA"
      },
      "source": [
        "## Train model"
      ]
    },
    {
      "cell_type": "code",
      "metadata": {
        "scrolled": true,
        "id": "pOgrELPAm5tC",
        "outputId": "d1772397-f6f2-40d9-e79d-09f226591ee1",
        "colab": {
          "base_uri": "https://localhost:8080/",
          "height": 1000
        }
      },
      "source": [
        "%%time\n",
        "#  Train the model\n",
        "history = model.fit(\n",
        "    x=X_train, y=Y_validation,\n",
        "    batch_size=32, epochs=100)"
      ],
      "execution_count": 8,
      "outputs": [
        {
          "output_type": "stream",
          "text": [
            "Epoch 1/100\n",
            "1/1 [==============================] - 0s 2ms/step - loss: 0.0054\n",
            "Epoch 2/100\n",
            "1/1 [==============================] - 0s 2ms/step - loss: 0.0042\n",
            "Epoch 3/100\n",
            "1/1 [==============================] - 0s 1ms/step - loss: 0.0035\n",
            "Epoch 4/100\n",
            "1/1 [==============================] - 0s 918us/step - loss: 0.0030\n",
            "Epoch 5/100\n",
            "1/1 [==============================] - 0s 829us/step - loss: 0.0027\n",
            "Epoch 6/100\n",
            "1/1 [==============================] - 0s 1ms/step - loss: 0.0024\n",
            "Epoch 7/100\n",
            "1/1 [==============================] - 0s 1ms/step - loss: 0.0022\n",
            "Epoch 8/100\n",
            "1/1 [==============================] - 0s 1ms/step - loss: 0.0020\n",
            "Epoch 9/100\n",
            "1/1 [==============================] - 0s 930us/step - loss: 0.0018\n",
            "Epoch 10/100\n",
            "1/1 [==============================] - 0s 927us/step - loss: 0.0016\n",
            "Epoch 11/100\n",
            "1/1 [==============================] - 0s 2ms/step - loss: 0.0015\n",
            "Epoch 12/100\n",
            "1/1 [==============================] - 0s 978us/step - loss: 0.0013\n",
            "Epoch 13/100\n",
            "1/1 [==============================] - 0s 903us/step - loss: 0.0012\n",
            "Epoch 14/100\n",
            "1/1 [==============================] - 0s 897us/step - loss: 0.0011\n",
            "Epoch 15/100\n",
            "1/1 [==============================] - 0s 1ms/step - loss: 0.0010\n",
            "Epoch 16/100\n",
            "1/1 [==============================] - 0s 1ms/step - loss: 9.3890e-04\n",
            "Epoch 17/100\n",
            "1/1 [==============================] - 0s 1ms/step - loss: 8.5741e-04\n",
            "Epoch 18/100\n",
            "1/1 [==============================] - 0s 1ms/step - loss: 7.8247e-04\n",
            "Epoch 19/100\n",
            "1/1 [==============================] - 0s 993us/step - loss: 7.1347e-04\n",
            "Epoch 20/100\n",
            "1/1 [==============================] - 0s 2ms/step - loss: 6.4992e-04\n",
            "Epoch 21/100\n",
            "1/1 [==============================] - 0s 1ms/step - loss: 5.9137e-04\n",
            "Epoch 22/100\n",
            "1/1 [==============================] - 0s 2ms/step - loss: 5.3743e-04\n",
            "Epoch 23/100\n",
            "1/1 [==============================] - 0s 1ms/step - loss: 4.8777e-04\n",
            "Epoch 24/100\n",
            "1/1 [==============================] - 0s 1ms/step - loss: 4.4208e-04\n",
            "Epoch 25/100\n",
            "1/1 [==============================] - 0s 917us/step - loss: 4.0007e-04\n",
            "Epoch 26/100\n",
            "1/1 [==============================] - 0s 885us/step - loss: 3.6148e-04\n",
            "Epoch 27/100\n",
            "1/1 [==============================] - 0s 911us/step - loss: 3.2606e-04\n",
            "Epoch 28/100\n",
            "1/1 [==============================] - 0s 1ms/step - loss: 2.9358e-04\n",
            "Epoch 29/100\n",
            "1/1 [==============================] - 0s 1ms/step - loss: 2.6382e-04\n",
            "Epoch 30/100\n",
            "1/1 [==============================] - 0s 943us/step - loss: 2.3656e-04\n",
            "Epoch 31/100\n",
            "1/1 [==============================] - 0s 920us/step - loss: 2.1163e-04\n",
            "Epoch 32/100\n",
            "1/1 [==============================] - 0s 822us/step - loss: 1.8883e-04\n",
            "Epoch 33/100\n",
            "1/1 [==============================] - 0s 875us/step - loss: 1.6801e-04\n",
            "Epoch 34/100\n",
            "1/1 [==============================] - 0s 1ms/step - loss: 1.4901e-04\n",
            "Epoch 35/100\n",
            "1/1 [==============================] - 0s 871us/step - loss: 1.3170e-04\n",
            "Epoch 36/100\n",
            "1/1 [==============================] - 0s 892us/step - loss: 1.1594e-04\n",
            "Epoch 37/100\n",
            "1/1 [==============================] - 0s 946us/step - loss: 1.0163e-04\n",
            "Epoch 38/100\n",
            "1/1 [==============================] - 0s 989us/step - loss: 8.8667e-05\n",
            "Epoch 39/100\n",
            "1/1 [==============================] - 0s 947us/step - loss: 7.6952e-05\n",
            "Epoch 40/100\n",
            "1/1 [==============================] - 0s 927us/step - loss: 6.6404e-05\n",
            "Epoch 41/100\n",
            "1/1 [==============================] - 0s 961us/step - loss: 5.6944e-05\n",
            "Epoch 42/100\n",
            "1/1 [==============================] - 0s 1ms/step - loss: 4.8501e-05\n",
            "Epoch 43/100\n",
            "1/1 [==============================] - 0s 901us/step - loss: 4.1004e-05\n",
            "Epoch 44/100\n",
            "1/1 [==============================] - 0s 854us/step - loss: 3.4389e-05\n",
            "Epoch 45/100\n",
            "1/1 [==============================] - 0s 870us/step - loss: 2.8591e-05\n",
            "Epoch 46/100\n",
            "1/1 [==============================] - 0s 867us/step - loss: 2.3549e-05\n",
            "Epoch 47/100\n",
            "1/1 [==============================] - 0s 790us/step - loss: 1.9200e-05\n",
            "Epoch 48/100\n",
            "1/1 [==============================] - 0s 5ms/step - loss: 1.5484e-05\n",
            "Epoch 49/100\n",
            "1/1 [==============================] - 0s 1ms/step - loss: 1.2341e-05\n",
            "Epoch 50/100\n",
            "1/1 [==============================] - 0s 3ms/step - loss: 9.7124e-06\n",
            "Epoch 51/100\n",
            "1/1 [==============================] - 0s 946us/step - loss: 7.5404e-06\n",
            "Epoch 52/100\n",
            "1/1 [==============================] - 0s 1ms/step - loss: 5.7693e-06\n",
            "Epoch 53/100\n",
            "1/1 [==============================] - 0s 1ms/step - loss: 4.3457e-06\n",
            "Epoch 54/100\n",
            "1/1 [==============================] - 0s 1ms/step - loss: 3.2189e-06\n",
            "Epoch 55/100\n",
            "1/1 [==============================] - 0s 3ms/step - loss: 2.3418e-06\n",
            "Epoch 56/100\n",
            "1/1 [==============================] - 0s 2ms/step - loss: 1.6713e-06\n",
            "Epoch 57/100\n",
            "1/1 [==============================] - 0s 2ms/step - loss: 1.1685e-06\n",
            "Epoch 58/100\n",
            "1/1 [==============================] - 0s 2ms/step - loss: 7.9928e-07\n",
            "Epoch 59/100\n",
            "1/1 [==============================] - 0s 2ms/step - loss: 5.3410e-07\n",
            "Epoch 60/100\n",
            "1/1 [==============================] - 0s 2ms/step - loss: 3.4866e-07\n",
            "Epoch 61/100\n",
            "1/1 [==============================] - 0s 1ms/step - loss: 2.2846e-07\n",
            "Epoch 62/100\n",
            "1/1 [==============================] - 0s 932us/step - loss: 2.3621e-07\n",
            "Epoch 63/100\n",
            "1/1 [==============================] - 0s 1ms/step - loss: 1.1442e-06\n",
            "Epoch 64/100\n",
            "1/1 [==============================] - 0s 1ms/step - loss: 2.5640e-06\n",
            "Epoch 65/100\n",
            "1/1 [==============================] - 0s 1ms/step - loss: 1.5560e-06\n",
            "Epoch 66/100\n",
            "1/1 [==============================] - 0s 935us/step - loss: 9.1767e-07\n",
            "Epoch 67/100\n",
            "1/1 [==============================] - 0s 6ms/step - loss: 5.9239e-07\n",
            "Epoch 68/100\n",
            "1/1 [==============================] - 0s 866us/step - loss: 4.2249e-07\n",
            "Epoch 69/100\n",
            "1/1 [==============================] - 0s 914us/step - loss: 3.3994e-07\n",
            "Epoch 70/100\n",
            "1/1 [==============================] - 0s 1ms/step - loss: 3.1650e-07\n",
            "Epoch 71/100\n",
            "1/1 [==============================] - 0s 1ms/step - loss: 3.4193e-07\n",
            "Epoch 72/100\n",
            "1/1 [==============================] - 0s 1ms/step - loss: 4.2324e-07\n",
            "Epoch 73/100\n",
            "1/1 [==============================] - 0s 1ms/step - loss: 5.9031e-07\n",
            "Epoch 74/100\n",
            "1/1 [==============================] - 0s 1ms/step - loss: 8.9564e-07\n",
            "Epoch 75/100\n",
            "1/1 [==============================] - 0s 1ms/step - loss: 1.4189e-06\n",
            "Epoch 76/100\n",
            "1/1 [==============================] - 0s 1ms/step - loss: 2.1943e-06\n",
            "Epoch 77/100\n",
            "1/1 [==============================] - 0s 863us/step - loss: 3.1318e-06\n",
            "Epoch 78/100\n",
            "1/1 [==============================] - 0s 998us/step - loss: 3.8642e-06\n",
            "Epoch 79/100\n",
            "1/1 [==============================] - 0s 843us/step - loss: 4.1034e-06\n",
            "Epoch 80/100\n",
            "1/1 [==============================] - 0s 1ms/step - loss: 3.7342e-06\n",
            "Epoch 81/100\n",
            "1/1 [==============================] - 0s 1ms/step - loss: 3.1453e-06\n",
            "Epoch 82/100\n",
            "1/1 [==============================] - 0s 859us/step - loss: 2.5384e-06\n",
            "Epoch 83/100\n",
            "1/1 [==============================] - 0s 2ms/step - loss: 2.1119e-06\n",
            "Epoch 84/100\n",
            "1/1 [==============================] - 0s 876us/step - loss: 1.8362e-06\n",
            "Epoch 85/100\n",
            "1/1 [==============================] - 0s 856us/step - loss: 1.7238e-06\n",
            "Epoch 86/100\n",
            "1/1 [==============================] - 0s 1ms/step - loss: 1.7326e-06\n",
            "Epoch 87/100\n",
            "1/1 [==============================] - 0s 915us/step - loss: 1.8723e-06\n",
            "Epoch 88/100\n",
            "1/1 [==============================] - 0s 1ms/step - loss: 2.1230e-06\n",
            "Epoch 89/100\n",
            "1/1 [==============================] - 0s 864us/step - loss: 2.4860e-06\n",
            "Epoch 90/100\n",
            "1/1 [==============================] - 0s 897us/step - loss: 2.8990e-06\n",
            "Epoch 91/100\n",
            "1/1 [==============================] - 0s 854us/step - loss: 3.2844e-06\n",
            "Epoch 92/100\n",
            "1/1 [==============================] - 0s 884us/step - loss: 3.5105e-06\n",
            "Epoch 93/100\n",
            "1/1 [==============================] - 0s 1ms/step - loss: 3.5237e-06\n",
            "Epoch 94/100\n",
            "1/1 [==============================] - 0s 1ms/step - loss: 3.3325e-06\n",
            "Epoch 95/100\n",
            "1/1 [==============================] - 0s 872us/step - loss: 3.0430e-06\n",
            "Epoch 96/100\n",
            "1/1 [==============================] - 0s 983us/step - loss: 2.7411e-06\n",
            "Epoch 97/100\n",
            "1/1 [==============================] - 0s 2ms/step - loss: 2.5001e-06\n",
            "Epoch 98/100\n",
            "1/1 [==============================] - 0s 1ms/step - loss: 2.3408e-06\n",
            "Epoch 99/100\n",
            "1/1 [==============================] - 0s 922us/step - loss: 2.2758e-06\n",
            "Epoch 100/100\n",
            "1/1 [==============================] - 0s 905us/step - loss: 2.2968e-06\n",
            "CPU times: user 3.51 s, sys: 760 ms, total: 4.27 s\n",
            "Wall time: 8.74 s\n"
          ],
          "name": "stdout"
        }
      ]
    },
    {
      "cell_type": "code",
      "metadata": {
        "id": "K02h5_C7m5tZ",
        "outputId": "856bac84-8246-435b-c379-38dadb4dbce1",
        "colab": {
          "base_uri": "https://localhost:8080/",
          "height": 260
        }
      },
      "source": [
        "#  Plot loss function\n",
        "pd.Series(history.history['loss']).plot(figsize=(14, 4));"
      ],
      "execution_count": 9,
      "outputs": [
        {
          "output_type": "display_data",
          "data": {
            "image/png": "[encoded data removed]",
            "text/plain": [
              "<Figure size 1008x288 with 1 Axes>"
            ]
          },
          "metadata": {
            "tags": [],
            "needs_background": "light"
          }
        }
      ]
    },
    {
      "cell_type": "markdown",
      "metadata": {
        "id": "_es3b3Adm5t1"
      },
      "source": [
        "## Make Predictions"
      ]
    },
    {
      "cell_type": "code",
      "metadata": {
        "id": "v7o60Ijcm5t4",
        "outputId": "a89bdb1f-ea8e-404a-cac7-e9bce2f5fe30",
        "colab": {
          "base_uri": "https://localhost:8080/",
          "height": 54
        }
      },
      "source": [
        "#  Make predictions using X_train data\n",
        "predictions = model.predict(x=X_train)[0]\n",
        "predictions"
      ],
      "execution_count": 10,
      "outputs": [
        {
          "output_type": "execute_result",
          "data": {
            "text/plain": [
              "array([-0.00120796,  0.01779516,  0.0664935 ,  0.05382925,  0.06041446,\n",
              "        0.0758766 ,  0.02596492], dtype=float32)"
            ]
          },
          "metadata": {
            "tags": []
          },
          "execution_count": 10
        }
      ]
    },
    {
      "cell_type": "code",
      "metadata": {
        "id": "NK8B2aZgm5uU"
      },
      "source": [
        "def denormalize(series, last_value):\n",
        "    \"\"\"Denormalize the values for a given series.\n",
        "    \n",
        "    This uses the last value available (i.e. the last\n",
        "    closing price of the week before our prediction)\n",
        "    as a reference for scaling the predicted results.\n",
        "    \"\"\"\n",
        "    result = last_value * (series + 1)\n",
        "    return result"
      ],
      "execution_count": 11,
      "outputs": []
    },
    {
      "cell_type": "code",
      "metadata": {
        "id": "8_6u8rzem5un",
        "outputId": "667a381c-b255-44eb-cfa2-daa72cc20524",
        "colab": {
          "base_uri": "https://localhost:8080/",
          "height": 54
        }
      },
      "source": [
        "#  Denormalize predictions\n",
        "last_weeks_value = train[train['date'] == train['date'][:-7].max()]['close'].values[0]\n",
        "\n",
        "denormalized_prediction = denormalize(predictions, last_weeks_value)\n",
        "denormalized_prediction"
      ],
      "execution_count": 12,
      "outputs": [
        {
          "output_type": "execute_result",
          "data": {
            "text/plain": [
              "array([2652.6716, 2703.1418, 2832.4788, 2798.8438, 2816.3333, 2857.399 ,\n",
              "       2724.8398], dtype=float32)"
            ]
          },
          "metadata": {
            "tags": []
          },
          "execution_count": 12
        }
      ]
    },
    {
      "cell_type": "code",
      "metadata": {
        "id": "hvaeqZpRm5u3",
        "outputId": "a081830d-99dc-4cd5-96ac-8df01200a901",
        "colab": {
          "base_uri": "https://localhost:8080/",
          "height": 261
        }
      },
      "source": [
        "#  Plot denormalized predictions against actual predictions\n",
        "plt.figure(figsize=(14, 4))\n",
        "\n",
        "plt.plot(train['close'][-7:].values, label='Actual')\n",
        "plt.plot(denormalized_prediction, color='#d35400', label='Predicted')\n",
        "\n",
        "plt.grid()\n",
        "plt.legend();"
      ],
      "execution_count": 13,
      "outputs": [
        {
          "output_type": "display_data",
          "data": {
            "image/png": "[encoded data removed]",
            "text/plain": [
              "<Figure size 1008x288 with 1 Axes>"
            ]
          },
          "metadata": {
            "tags": [],
            "needs_background": "light"
          }
        }
      ]
    },
    {
      "cell_type": "code",
      "metadata": {
        "id": "-wLXPNuCm5vV",
        "outputId": "a985f1ec-5267-45f7-dbfa-ee8984a79862",
        "colab": {
          "base_uri": "https://localhost:8080/",
          "height": 265
        }
      },
      "source": [
        "prediction_plot = np.zeros(len(train)-2)\n",
        "prediction_plot[:] = np.nan\n",
        "prediction_plot[-7:] = denormalized_prediction\n",
        "\n",
        "plt.figure(figsize=(14, 4))\n",
        "plt.plot(train['close'][-30:].values, label='Actual')\n",
        "plt.plot(prediction_plot[-30:], color='#d35400', linestyle='--', label='Predicted')\n",
        "plt.axvline(30 - 7, color='r', linestyle='--', linewidth=1)\n",
        "\n",
        "plt.grid()\n",
        "plt.legend(loc='lower right');"
      ],
      "execution_count": 14,
      "outputs": [
        {
          "output_type": "display_data",
          "data": {
            "image/png": "[encoded data removed]",
            "text/plain": [
              "<Figure size 1008x288 with 1 Axes>"
            ]
          },
          "metadata": {
            "tags": [],
            "needs_background": "light"
          }
        }
      ]
    },
    {
      "cell_type": "code",
      "metadata": {
        "eid": "8ce0c2",
        "id": "LyCghwa1m5xc"
      },
      "source": [
        "#  TASK:\n",
        "#  Save model to disk\n",
        "#\n",
        "model.save('/content/bitcoin_lstm_v0_trained.h5')"
      ],
      "execution_count": 16,
      "outputs": []
    },
    {
      "cell_type": "markdown",
      "metadata": {
        "id": "QYZZi8Tpm5x2"
      },
      "source": [
        "In this activity, we have assembled a complete deep learning system: from data to prediction. The model created in this activity need a number of improvements before it can be considered useful. However, it serves as a great starting point from which we will continuously improve."
      ]
    }
  ]
}