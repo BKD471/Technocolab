{
  "nbformat": 4,
  "nbformat_minor": 0,
  "metadata": {
    "kernelspec": {
      "display_name": "Python 3",
      "language": "python",
      "name": "python3"
    },
    "language_info": {
      "codemirror_mode": {
        "name": "ipython",
        "version": 3
      },
      "file_extension": ".py",
      "mimetype": "text/x-python",
      "name": "python",
      "nbconvert_exporter": "python",
      "pygments_lexer": "ipython3",
      "version": "3.6.6"
    },
    "colab": {
      "name": "Activity_6_Creating_an_active_training_environment.ipynb",
      "provenance": [],
      "toc_visible": true
    },
    "accelerator": "GPU"
  },
  "cells": [
    {
      "cell_type": "markdown",
      "metadata": {
        "id": "PXzb0maMt4dW"
      },
      "source": [
        "# Activity 6: Creating an active training environment\n",
        "In this activity we learn to evaluate our LSTM model and to actively train it with new data."
      ]
    },
    {
      "cell_type": "markdown",
      "metadata": {
        "id": "SCURsya8t4df"
      },
      "source": [
        "## Load Data"
      ]
    },
    {
      "cell_type": "code",
      "metadata": {
        "id": "a9VRruJzt4di",
        "outputId": "2ba5fd62-4c7a-420a-8ebe-73008992bde6",
        "colab": {
          "base_uri": "https://localhost:8080/",
          "height": 35
        }
      },
      "source": [
        "%autosave 5\n",
        "\n",
        "#  Import necessary libraries\n",
        "import numpy as np\n",
        "import pandas as pd\n",
        "import seaborn as sb\n",
        "import matplotlib.pyplot as plt\n",
        "%matplotlib inline\n",
        "plt.style.use('seaborn-white')\n",
        "\n",
        "from keras.models import load_model\n",
        "from keras.callbacks import TensorBoard\n",
        "from datetime import datetime, timedelta\n",
        "\n",
        "from scripts.utilities_activity6 import *\n",
        "\n",
        "np.random.seed(0)"
      ],
      "execution_count": 1,
      "outputs": [
        {
          "output_type": "display_data",
          "data": {
            "application/javascript": [
              "IPython.notebook.set_autosave_interval(5000)"
            ]
          },
          "metadata": {
            "tags": []
          }
        },
        {
          "output_type": "stream",
          "text": [
            "Autosaving every 5 seconds\n"
          ],
          "name": "stdout"
        }
      ]
    },
    {
      "cell_type": "code",
      "metadata": {
        "id": "ZImz7ISTt4eB"
      },
      "source": [
        "#  Load datasets\n",
        "train = pd.read_csv('/content/train_dataset.csv')\n",
        "test = pd.read_csv('/content/test_dataset.csv')"
      ],
      "execution_count": 3,
      "outputs": []
    },
    {
      "cell_type": "code",
      "metadata": {
        "id": "lnHVAYXVt4eV"
      },
      "source": [
        "#  Group data into groups containing seven observations\n",
        "train_data = create_groups(\n",
        "    train['close_point_relative_normalization'][2:].values)\n",
        "\n",
        "test_data = create_groups(\n",
        "    test['close_point_relative_normalization'][:-3].values)"
      ],
      "execution_count": 4,
      "outputs": []
    },
    {
      "cell_type": "code",
      "metadata": {
        "id": "JPdxypbEt4fP"
      },
      "source": [
        "#  Reshape the data in the format expected by the LSTM layer\n",
        "X_train, Y_train = split_lstm_input(train_data)"
      ],
      "execution_count": 5,
      "outputs": []
    },
    {
      "cell_type": "markdown",
      "metadata": {
        "id": "PS1XKlq5t4fb"
      },
      "source": [
        "## Re-train Model with TensorBoard"
      ]
    },
    {
      "cell_type": "code",
      "metadata": {
        "eid": "59584a",
        "id": "NxV4tMdrt4ff"
      },
      "source": [
        "def train_model(model, X, Y, epochs, version, run_number):\n",
        "    \"\"\"Training a model with TensorBoard callback.\n",
        "\n",
        "    This function names each run of the model\n",
        "    using the TensorBoard naming conventions.\n",
        "\n",
        "    Parameters\n",
        "    ----------\n",
        "    model: Keras model instance\n",
        "        Compiled Keras model.\n",
        "\n",
        "    X, Y: np.array\n",
        "        Series of observations to be used in\n",
        "        the training process.\n",
        "\n",
        "    epochs: int\n",
        "        The number of epochs to train the\n",
        "        model for.\n",
        "\n",
        "    version: int\n",
        "        Version of the model to run.\n",
        "\n",
        "    run_number: int\n",
        "        The number of the run. Used in case\n",
        "        the same model version is run again.\n",
        "    \"\"\"\n",
        "    model_name = f'bitcoin_lstm_v{version}_run_{run_number}'\n",
        "    tensorboard = TensorBoard(log_dir=f'./logs/{model_name}')\n",
        "\n",
        "    #  TASK:\n",
        "    #  Modify the `fit` method to include a TensorBoard callback.\n",
        "    #\n",
        "    \n",
        "    model_history = model.fit(\n",
        "        x=X, y=Y,\n",
        "        batch_size=1, epochs=epochs,\n",
        "        shuffle=False,callbacks=[tensorboard])\n",
        "\n",
        "    return model_history"
      ],
      "execution_count": 11,
      "outputs": []
    },
    {
      "cell_type": "code",
      "metadata": {
        "id": "Q6nYIO4Ft4fs",
        "outputId": "eb1b3673-8956-47cb-926a-b45db011e9ca",
        "colab": {
          "base_uri": "https://localhost:8080/",
          "height": 55
        }
      },
      "source": [
        "#  Load previously trained network\n",
        "model = load_model('bitcoin_lstm_v0.h5')"
      ],
      "execution_count": 12,
      "outputs": [
        {
          "output_type": "stream",
          "text": [
            "WARNING:tensorflow:Layer lstm_1 will not use cuDNN kernel since it doesn't meet the cuDNN kernel criteria. It will use generic GPU kernel as fallback when running on GPU\n"
          ],
          "name": "stdout"
        }
      ]
    },
    {
      "cell_type": "code",
      "metadata": {
        "id": "wMvOX4bnt4gS",
        "outputId": "5519781e-990b-4b91-a6e4-e545bf72a46f",
        "colab": {
          "base_uri": "https://localhost:8080/",
          "height": 1000
        }
      },
      "source": [
        "#  Retrain network\n",
        "model_history = train_model(model=model,\n",
        "                            X=X_train, Y=Y_train,\n",
        "                            epochs=100,\n",
        "                            version=0, run_number=1)"
      ],
      "execution_count": 13,
      "outputs": [
        {
          "output_type": "stream",
          "text": [
            "Epoch 1/100\n",
            "1/1 [==============================] - 0s 6ms/step - loss: 0.0027\n",
            "Epoch 2/100\n",
            "WARNING:tensorflow:From /usr/local/lib/python3.6/dist-packages/tensorflow/python/ops/summary_ops_v2.py:1277: stop (from tensorflow.python.eager.profiler) is deprecated and will be removed after 2020-07-01.\n",
            "Instructions for updating:\n",
            "use `tf.profiler.experimental.stop` instead.\n",
            "1/1 [==============================] - 0s 3ms/step - loss: 0.0023\n",
            "Epoch 3/100\n",
            "1/1 [==============================] - 0s 2ms/step - loss: 0.0020\n",
            "Epoch 4/100\n",
            "1/1 [==============================] - 0s 2ms/step - loss: 0.0018\n",
            "Epoch 5/100\n",
            "1/1 [==============================] - 0s 2ms/step - loss: 0.0016\n",
            "Epoch 6/100\n",
            "1/1 [==============================] - 0s 3ms/step - loss: 0.0015\n",
            "Epoch 7/100\n",
            "1/1 [==============================] - 0s 4ms/step - loss: 0.0013\n",
            "Epoch 8/100\n",
            "1/1 [==============================] - 0s 2ms/step - loss: 0.0012\n",
            "Epoch 9/100\n",
            "1/1 [==============================] - 0s 3ms/step - loss: 0.0011\n",
            "Epoch 10/100\n",
            "1/1 [==============================] - 0s 2ms/step - loss: 0.0010\n",
            "Epoch 11/100\n",
            "1/1 [==============================] - 0s 7ms/step - loss: 9.3836e-04\n",
            "Epoch 12/100\n",
            "1/1 [==============================] - 0s 5ms/step - loss: 8.5599e-04\n",
            "Epoch 13/100\n",
            "1/1 [==============================] - 0s 3ms/step - loss: 7.7978e-04\n",
            "Epoch 14/100\n",
            "1/1 [==============================] - 0s 3ms/step - loss: 7.0919e-04\n",
            "Epoch 15/100\n",
            "1/1 [==============================] - 0s 3ms/step - loss: 6.4378e-04\n",
            "Epoch 16/100\n",
            "1/1 [==============================] - 0s 2ms/step - loss: 5.8318e-04\n",
            "Epoch 17/100\n",
            "1/1 [==============================] - 0s 3ms/step - loss: 5.2708e-04\n",
            "Epoch 18/100\n",
            "1/1 [==============================] - 0s 2ms/step - loss: 4.7520e-04\n",
            "Epoch 19/100\n",
            "1/1 [==============================] - 0s 2ms/step - loss: 4.2730e-04\n",
            "Epoch 20/100\n",
            "1/1 [==============================] - 0s 2ms/step - loss: 3.8314e-04\n",
            "Epoch 21/100\n",
            "1/1 [==============================] - 0s 3ms/step - loss: 3.4252e-04\n",
            "Epoch 22/100\n",
            "1/1 [==============================] - 0s 2ms/step - loss: 3.0522e-04\n",
            "Epoch 23/100\n",
            "1/1 [==============================] - 0s 3ms/step - loss: 2.7106e-04\n",
            "Epoch 24/100\n",
            "1/1 [==============================] - 0s 5ms/step - loss: 2.3985e-04\n",
            "Epoch 25/100\n",
            "1/1 [==============================] - 0s 4ms/step - loss: 2.1140e-04\n",
            "Epoch 26/100\n",
            "1/1 [==============================] - 0s 2ms/step - loss: 1.8554e-04\n",
            "Epoch 27/100\n",
            "1/1 [==============================] - 0s 5ms/step - loss: 1.6211e-04\n",
            "Epoch 28/100\n",
            "1/1 [==============================] - 0s 5ms/step - loss: 1.4095e-04\n",
            "Epoch 29/100\n",
            "1/1 [==============================] - 0s 3ms/step - loss: 1.2189e-04\n",
            "Epoch 30/100\n",
            "1/1 [==============================] - 0s 3ms/step - loss: 1.0480e-04\n",
            "Epoch 31/100\n",
            "1/1 [==============================] - 0s 3ms/step - loss: 8.9544e-05\n",
            "Epoch 32/100\n",
            "1/1 [==============================] - 0s 6ms/step - loss: 7.5981e-05\n",
            "Epoch 33/100\n",
            "1/1 [==============================] - 0s 3ms/step - loss: 6.3991e-05\n",
            "Epoch 34/100\n",
            "1/1 [==============================] - 0s 2ms/step - loss: 5.3456e-05\n",
            "Epoch 35/100\n",
            "1/1 [==============================] - 0s 2ms/step - loss: 4.4263e-05\n",
            "Epoch 36/100\n",
            "1/1 [==============================] - 0s 2ms/step - loss: 3.6301e-05\n",
            "Epoch 37/100\n",
            "1/1 [==============================] - 0s 3ms/step - loss: 2.9463e-05\n",
            "Epoch 38/100\n",
            "1/1 [==============================] - 0s 2ms/step - loss: 2.3649e-05\n",
            "Epoch 39/100\n",
            "1/1 [==============================] - 0s 3ms/step - loss: 1.8776e-05\n",
            "Epoch 40/100\n",
            "1/1 [==============================] - 0s 3ms/step - loss: 1.4911e-05\n",
            "Epoch 41/100\n",
            "1/1 [==============================] - 0s 3ms/step - loss: 1.3093e-05\n",
            "Epoch 42/100\n",
            "1/1 [==============================] - 0s 2ms/step - loss: 1.3961e-05\n",
            "Epoch 43/100\n",
            "1/1 [==============================] - 0s 2ms/step - loss: 1.7715e-05\n",
            "Epoch 44/100\n",
            "1/1 [==============================] - 0s 3ms/step - loss: 1.8527e-05\n",
            "Epoch 45/100\n",
            "1/1 [==============================] - 0s 2ms/step - loss: 1.2767e-05\n",
            "Epoch 46/100\n",
            "1/1 [==============================] - 0s 2ms/step - loss: 7.8401e-06\n",
            "Epoch 47/100\n",
            "1/1 [==============================] - 0s 2ms/step - loss: 4.7685e-06\n",
            "Epoch 48/100\n",
            "1/1 [==============================] - 0s 3ms/step - loss: 3.1666e-06\n",
            "Epoch 49/100\n",
            "1/1 [==============================] - 0s 2ms/step - loss: 2.2368e-06\n",
            "Epoch 50/100\n",
            "1/1 [==============================] - 0s 4ms/step - loss: 1.7276e-06\n",
            "Epoch 51/100\n",
            "1/1 [==============================] - 0s 3ms/step - loss: 1.4705e-06\n",
            "Epoch 52/100\n",
            "1/1 [==============================] - 0s 2ms/step - loss: 1.4569e-06\n",
            "Epoch 53/100\n",
            "1/1 [==============================] - 0s 2ms/step - loss: 1.6985e-06\n",
            "Epoch 54/100\n",
            "1/1 [==============================] - 0s 3ms/step - loss: 2.3494e-06\n",
            "Epoch 55/100\n",
            "1/1 [==============================] - 0s 3ms/step - loss: 3.5472e-06\n",
            "Epoch 56/100\n",
            "1/1 [==============================] - 0s 2ms/step - loss: 5.4756e-06\n",
            "Epoch 57/100\n",
            "1/1 [==============================] - 0s 2ms/step - loss: 7.4417e-06\n",
            "Epoch 58/100\n",
            "1/1 [==============================] - 0s 2ms/step - loss: 8.5557e-06\n",
            "Epoch 59/100\n",
            "1/1 [==============================] - 0s 2ms/step - loss: 7.7265e-06\n",
            "Epoch 60/100\n",
            "1/1 [==============================] - 0s 2ms/step - loss: 6.2657e-06\n",
            "Epoch 61/100\n",
            "1/1 [==============================] - 0s 2ms/step - loss: 4.6341e-06\n",
            "Epoch 62/100\n",
            "1/1 [==============================] - 0s 2ms/step - loss: 3.5964e-06\n",
            "Epoch 63/100\n",
            "1/1 [==============================] - 0s 2ms/step - loss: 2.8950e-06\n",
            "Epoch 64/100\n",
            "1/1 [==============================] - 0s 4ms/step - loss: 2.6015e-06\n",
            "Epoch 65/100\n",
            "1/1 [==============================] - 0s 2ms/step - loss: 2.5205e-06\n",
            "Epoch 66/100\n",
            "1/1 [==============================] - 0s 4ms/step - loss: 2.7234e-06\n",
            "Epoch 67/100\n",
            "1/1 [==============================] - 0s 4ms/step - loss: 3.1200e-06\n",
            "Epoch 68/100\n",
            "1/1 [==============================] - 0s 2ms/step - loss: 3.8287e-06\n",
            "Epoch 69/100\n",
            "1/1 [==============================] - 0s 2ms/step - loss: 4.6857e-06\n",
            "Epoch 70/100\n",
            "1/1 [==============================] - 0s 3ms/step - loss: 5.7065e-06\n",
            "Epoch 71/100\n",
            "1/1 [==============================] - 0s 2ms/step - loss: 6.3654e-06\n",
            "Epoch 72/100\n",
            "1/1 [==============================] - 0s 3ms/step - loss: 6.6722e-06\n",
            "Epoch 73/100\n",
            "1/1 [==============================] - 0s 3ms/step - loss: 6.2432e-06\n",
            "Epoch 74/100\n",
            "1/1 [==============================] - 0s 3ms/step - loss: 5.6527e-06\n",
            "Epoch 75/100\n",
            "1/1 [==============================] - 0s 4ms/step - loss: 4.8488e-06\n",
            "Epoch 76/100\n",
            "1/1 [==============================] - 0s 2ms/step - loss: 4.2967e-06\n",
            "Epoch 77/100\n",
            "1/1 [==============================] - 0s 4ms/step - loss: 3.8373e-06\n",
            "Epoch 78/100\n",
            "1/1 [==============================] - 0s 3ms/step - loss: 3.6677e-06\n",
            "Epoch 79/100\n",
            "1/1 [==============================] - 0s 3ms/step - loss: 3.6153e-06\n",
            "Epoch 80/100\n",
            "1/1 [==============================] - 0s 2ms/step - loss: 3.8105e-06\n",
            "Epoch 81/100\n",
            "1/1 [==============================] - 0s 3ms/step - loss: 4.0883e-06\n",
            "Epoch 82/100\n",
            "1/1 [==============================] - 0s 3ms/step - loss: 4.5620e-06\n",
            "Epoch 83/100\n",
            "1/1 [==============================] - 0s 2ms/step - loss: 4.9894e-06\n",
            "Epoch 84/100\n",
            "1/1 [==============================] - 0s 3ms/step - loss: 5.4591e-06\n",
            "Epoch 85/100\n",
            "1/1 [==============================] - 0s 4ms/step - loss: 5.6375e-06\n",
            "Epoch 86/100\n",
            "1/1 [==============================] - 0s 2ms/step - loss: 5.7120e-06\n",
            "Epoch 87/100\n",
            "1/1 [==============================] - 0s 3ms/step - loss: 5.4412e-06\n",
            "Epoch 88/100\n",
            "1/1 [==============================] - 0s 2ms/step - loss: 5.1741e-06\n",
            "Epoch 89/100\n",
            "1/1 [==============================] - 0s 3ms/step - loss: 4.7612e-06\n",
            "Epoch 90/100\n",
            "1/1 [==============================] - 0s 2ms/step - loss: 4.5087e-06\n",
            "Epoch 91/100\n",
            "1/1 [==============================] - 0s 3ms/step - loss: 4.2550e-06\n",
            "Epoch 92/100\n",
            "1/1 [==============================] - 0s 3ms/step - loss: 4.2039e-06\n",
            "Epoch 93/100\n",
            "1/1 [==============================] - 0s 3ms/step - loss: 4.1816e-06\n",
            "Epoch 94/100\n",
            "1/1 [==============================] - 0s 2ms/step - loss: 4.3432e-06\n",
            "Epoch 95/100\n",
            "1/1 [==============================] - 0s 4ms/step - loss: 4.4967e-06\n",
            "Epoch 96/100\n",
            "1/1 [==============================] - 0s 2ms/step - loss: 4.7796e-06\n",
            "Epoch 97/100\n",
            "1/1 [==============================] - 0s 4ms/step - loss: 4.9585e-06\n",
            "Epoch 98/100\n",
            "1/1 [==============================] - 0s 3ms/step - loss: 5.1823e-06\n",
            "Epoch 99/100\n",
            "1/1 [==============================] - 0s 3ms/step - loss: 5.2011e-06\n",
            "Epoch 100/100\n",
            "1/1 [==============================] - 0s 3ms/step - loss: 5.2268e-06\n"
          ],
          "name": "stdout"
        }
      ]
    },
    {
      "cell_type": "markdown",
      "metadata": {
        "id": "VaOtsoQkt4gl"
      },
      "source": [
        "## Evaluate LSTM Model"
      ]
    },
    {
      "cell_type": "code",
      "metadata": {
        "id": "zYtsEOERt4gn"
      },
      "source": [
        "#  Combine training and testing datasets\n",
        "combined_set = np.concatenate((train_data, test_data), axis=1)"
      ],
      "execution_count": 14,
      "outputs": []
    },
    {
      "cell_type": "code",
      "metadata": {
        "id": "I-L9e233t4g8"
      },
      "source": [
        "#  Evaluate model at each week for the test set\n",
        "evaluated_weeks = []\n",
        "for i in range(0, test_data.shape[1]):\n",
        "    input_series = combined_set[0:, i:i + 77]\n",
        "\n",
        "    X_test = input_series[0:, :-1].reshape(1, input_series.shape[1] - 1, 7)\n",
        "    Y_test = input_series[0:, -1:][0]\n",
        "\n",
        "    result = model.evaluate(x=X_test, y=Y_test, verbose=0)\n",
        "    evaluated_weeks.append(result)"
      ],
      "execution_count": 15,
      "outputs": []
    },
    {
      "cell_type": "code",
      "metadata": {
        "id": "Fygunerqt4hO",
        "outputId": "9bea8985-7840-4fd7-f0ad-b9fe435900cf",
        "colab": {
          "base_uri": "https://localhost:8080/",
          "height": 286
        }
      },
      "source": [
        "#  Plot MSE for all evaluated weeks\n",
        "ax = pd.Series(evaluated_weeks).plot(drawstyle=\"steps-post\",\n",
        "                                     figsize=(14, 4),\n",
        "                                     color='#2c3e50',\n",
        "                                     grid=True,\n",
        "                                     title='Mean Squared Error (MSE) for Test Data')\n",
        "\n",
        "ax.set_xticks(range(0, len(evaluated_weeks)))\n",
        "ax.set_xlabel(\"Predicted Week\")\n",
        "ax.set_ylabel(\"MSE\")\n",
        "plt.show()"
      ],
      "execution_count": 16,
      "outputs": [
        {
          "output_type": "display_data",
          "data": {
            "image/png": "[encoded data removed]",
            "text/plain": [
              "<Figure size 1008x288 with 1 Axes>"
            ]
          },
          "metadata": {
            "tags": [],
            "needs_background": "light"
          }
        }
      ]
    },
    {
      "cell_type": "markdown",
      "metadata": {
        "id": "_zphkdKtt4hj"
      },
      "source": [
        "## Interpreting Model Results"
      ]
    },
    {
      "cell_type": "markdown",
      "metadata": {
        "id": "aiQQxUrqt4hl"
      },
      "source": [
        "### Make Predictions"
      ]
    },
    {
      "cell_type": "code",
      "metadata": {
        "id": "nzhAMkoNt4ho"
      },
      "source": [
        "#  Make predictions for each of the 19 weeks\n",
        "#  in the test set\n",
        "predicted_weeks = []\n",
        "for i in range(0, test_data.shape[1]):\n",
        "    input_series = combined_set[0:, i:i + 76]\n",
        "    predicted_weeks.append(model.predict(input_series))"
      ],
      "execution_count": 17,
      "outputs": []
    },
    {
      "cell_type": "code",
      "metadata": {
        "id": "wkpEQIsst4h1"
      },
      "source": [
        "#  Flatten `predicted_weeks` to get a list\n",
        "#  of predictions for each day in the 19 weeks\n",
        "predicted_days = []\n",
        "for week in predicted_weeks:\n",
        "    predicted_days += list(week[0])"
      ],
      "execution_count": 18,
      "outputs": []
    },
    {
      "cell_type": "code",
      "metadata": {
        "id": "HiaNVd9ut4iC"
      },
      "source": [
        "#  Create list of dates associated with predictions\n",
        "last_day = datetime.strptime(train['date'].max(), '%Y-%m-%d')\n",
        "list_of_days = []\n",
        "for days in range(1, len(predicted_days) + 1):\n",
        "    D = (last_day + timedelta(days=days)).strftime('%Y-%m-%d')\n",
        "    list_of_days.append(D)"
      ],
      "execution_count": 19,
      "outputs": []
    },
    {
      "cell_type": "code",
      "metadata": {
        "id": "ciCUsWGjt4ia",
        "outputId": "aceab988-1b39-4b3d-a4f0-ef685476d34e",
        "colab": {
          "base_uri": "https://localhost:8080/",
          "height": 198
        }
      },
      "source": [
        "#  Create dataframe with predicted values\n",
        "predicted = pd.DataFrame({\n",
        "    'date': list_of_days,\n",
        "    'close_point_relative_normalization': predicted_days\n",
        "})\n",
        "predicted.head()"
      ],
      "execution_count": 20,
      "outputs": [
        {
          "output_type": "execute_result",
          "data": {
            "text/html": [
              "<div>\n",
              "<style scoped>\n",
              "    .dataframe tbody tr th:only-of-type {\n",
              "        vertical-align: middle;\n",
              "    }\n",
              "\n",
              "    .dataframe tbody tr th {\n",
              "        vertical-align: top;\n",
              "    }\n",
              "\n",
              "    .dataframe thead th {\n",
              "        text-align: right;\n",
              "    }\n",
              "</style>\n",
              "<table border=\"1\" class=\"dataframe\">\n",
              "  <thead>\n",
              "    <tr style=\"text-align: right;\">\n",
              "      <th></th>\n",
              "      <th>date</th>\n",
              "      <th>close_point_relative_normalization</th>\n",
              "    </tr>\n",
              "  </thead>\n",
              "  <tbody>\n",
              "    <tr>\n",
              "      <th>0</th>\n",
              "      <td>2017-06-25</td>\n",
              "      <td>0.001210</td>\n",
              "    </tr>\n",
              "    <tr>\n",
              "      <th>1</th>\n",
              "      <td>2017-06-26</td>\n",
              "      <td>0.013720</td>\n",
              "    </tr>\n",
              "    <tr>\n",
              "      <th>2</th>\n",
              "      <td>2017-06-27</td>\n",
              "      <td>0.066565</td>\n",
              "    </tr>\n",
              "    <tr>\n",
              "      <th>3</th>\n",
              "      <td>2017-06-28</td>\n",
              "      <td>0.057552</td>\n",
              "    </tr>\n",
              "    <tr>\n",
              "      <th>4</th>\n",
              "      <td>2017-06-29</td>\n",
              "      <td>0.057666</td>\n",
              "    </tr>\n",
              "  </tbody>\n",
              "</table>\n",
              "</div>"
            ],
            "text/plain": [
              "         date  close_point_relative_normalization\n",
              "0  2017-06-25                            0.001210\n",
              "1  2017-06-26                            0.013720\n",
              "2  2017-06-27                            0.066565\n",
              "3  2017-06-28                            0.057552\n",
              "4  2017-06-29                            0.057666"
            ]
          },
          "metadata": {
            "tags": []
          },
          "execution_count": 20
        }
      ]
    },
    {
      "cell_type": "code",
      "metadata": {
        "id": "9Kn9cRyUt4is"
      },
      "source": [
        "#  Convert `date` variable to datetime\n",
        "predicted['date'] = predicted['date'].apply(\n",
        "    lambda x: datetime.strptime(x, '%Y-%m-%d'))\n",
        "\n",
        "test['date'] = test['date'].apply(\n",
        "    lambda x: datetime.strptime(x, '%Y-%m-%d'))"
      ],
      "execution_count": 21,
      "outputs": []
    },
    {
      "cell_type": "code",
      "metadata": {
        "id": "5ffjZa6ut4i3"
      },
      "source": [
        "def plot_two_series(A, B, variable, title):\n",
        "    \"\"\"Plot two series using the same `date` index. \n",
        "    \n",
        "    Parameters\n",
        "    ----------\n",
        "    A, B: pd.DataFrame\n",
        "        Dataframe with a `date` key and a variable\n",
        "        passed in the `variable` parameter. Parameter A\n",
        "        represents the \"Observed\" series and B the \"Predicted\"\n",
        "        series. These will be labelled respectively. \n",
        "    \n",
        "    variable: str\n",
        "        Variable to use in plot.\n",
        "    \n",
        "    title: str\n",
        "        Plot title.\n",
        "    \"\"\"\n",
        "    plt.figure(figsize=(14, 4))\n",
        "    plt.xlabel('Observed and predicted')\n",
        "\n",
        "    ax1 = A.set_index('date')[variable].plot(\n",
        "        color='#d35400', grid=True, label='Observed', title=title)\n",
        "\n",
        "    ax2 = B.set_index('date')[variable].plot(\n",
        "        color='grey', grid=True, label='Predicted')\n",
        "    \n",
        "    ax1.set_xlabel(\"Predicted Week\")\n",
        "    ax1.set_ylabel(\"Predicted Values\")\n",
        "\n",
        "    plt.legend()\n",
        "    plt.show()"
      ],
      "execution_count": 22,
      "outputs": []
    },
    {
      "cell_type": "code",
      "metadata": {
        "id": "u6LhOdIlt4jB",
        "outputId": "7e2a351a-3e52-474c-b83b-814fa4da014a",
        "colab": {
          "base_uri": "https://localhost:8080/",
          "height": 297
        }
      },
      "source": [
        "#  Plot predicted normalized prices\n",
        "#  against actual normalized prices\n",
        "plot_two_series(A=test[:-3],\n",
        "                B=predicted,\n",
        "                variable='close_point_relative_normalization',\n",
        "                title='Normalized Predictions per Week')"
      ],
      "execution_count": 23,
      "outputs": [
        {
          "output_type": "display_data",
          "data": {
            "image/png": "[encoded data removed]",
            "text/plain": [
              "<Figure size 1008x288 with 1 Axes>"
            ]
          },
          "metadata": {
            "tags": [],
            "needs_background": "light"
          }
        }
      ]
    },
    {
      "cell_type": "markdown",
      "metadata": {
        "id": "iv5OYlTJt4jT"
      },
      "source": [
        "### De-normalize Predictions"
      ]
    },
    {
      "cell_type": "code",
      "metadata": {
        "id": "95-Q8WEvt4jU"
      },
      "source": [
        "#  Add variable `iso_week` by stripping the Year and Week from `date`\n",
        "predicted['iso_week'] = predicted['date'].apply(\n",
        "    lambda x: x.strftime('%Y-%U'))"
      ],
      "execution_count": 24,
      "outputs": []
    },
    {
      "cell_type": "code",
      "metadata": {
        "id": "9ijT-Tbdt4jq"
      },
      "source": [
        "def denormalize(reference, series,\n",
        "                normalized_variable='close_point_relative_normalization',\n",
        "                denormalized_variable='close'):\n",
        "    \"\"\"Denormalize the values for a given series.\n",
        "\n",
        "    Parameters\n",
        "    ----------\n",
        "    reference: pd.DataFrame\n",
        "        DataFrame to use as reference. This dataframe\n",
        "        contains both a week index and the USD price\n",
        "        reference that we are interested on.\n",
        "\n",
        "    series: pd.DataFrame\n",
        "        DataFrame with the predicted series. The\n",
        "        DataFrame must have the same columns as the\n",
        "        `reference` dataset.\n",
        "\n",
        "    normalized_variable: str, default 'close_point_relative_normalization'\n",
        "        Variable to use in normalization.\n",
        "\n",
        "    denormalized_variable: str, default `close`\n",
        "        Variable to use in de-normalization.\n",
        "\n",
        "    Returns\n",
        "    -------\n",
        "    A modified DataFrame with the new variable provided\n",
        "    in `denormalized_variable` parameter.\n",
        "    \"\"\"\n",
        "    week_values = reference[reference['iso_week'] == series['iso_week'].values[0]]\n",
        "    last_value = week_values[denormalized_variable].values[0]\n",
        "    series[denormalized_variable] = last_value * (series[normalized_variable] + 1)\n",
        "\n",
        "    return series"
      ],
      "execution_count": 25,
      "outputs": []
    },
    {
      "cell_type": "code",
      "metadata": {
        "id": "5Pl8J9L_t4j1"
      },
      "source": [
        "#  Denormalize predictions\n",
        "predicted_close = predicted.groupby('iso_week').apply(\n",
        "    lambda x: denormalize(test[:-3], x))"
      ],
      "execution_count": 26,
      "outputs": []
    },
    {
      "cell_type": "code",
      "metadata": {
        "id": "bwNtdoNrt4kG",
        "outputId": "afda8ee8-8f87-4304-aecb-6300d7bbf631",
        "colab": {
          "base_uri": "https://localhost:8080/",
          "height": 296
        }
      },
      "source": [
        "#  Plot denormalized predictions and observed closing prices in test set\n",
        "plot_two_series(A=test[:-3],\n",
        "                B=predicted_close,\n",
        "                variable='close',\n",
        "                title='De-normalized Predictions per Week')"
      ],
      "execution_count": 27,
      "outputs": [
        {
          "output_type": "display_data",
          "data": {
            "image/png": "[encoded data removed]",
            "text/plain": [
              "<Figure size 1008x288 with 1 Axes>"
            ]
          },
          "metadata": {
            "tags": [],
            "needs_background": "light"
          }
        }
      ]
    },
    {
      "cell_type": "markdown",
      "metadata": {
        "id": "lvQbSFZ2t4kS"
      },
      "source": [
        "### Calculate RMSE and MAPE"
      ]
    },
    {
      "cell_type": "code",
      "metadata": {
        "id": "D6hlamKDt4kT",
        "outputId": "8fcb55c0-356a-4774-99bf-d9c53286cee3",
        "colab": {
          "base_uri": "https://localhost:8080/",
          "height": 35
        }
      },
      "source": [
        "A = test[:-3]['close_point_relative_normalization']\n",
        "B = predicted_close['close_point_relative_normalization']\n",
        "\n",
        "print(f'Normalized RMSE: {rmse(A, B):.2f}')"
      ],
      "execution_count": 28,
      "outputs": [
        {
          "output_type": "stream",
          "text": [
            "Normalized RMSE: 0.10\n"
          ],
          "name": "stdout"
        }
      ]
    },
    {
      "cell_type": "code",
      "metadata": {
        "id": "lm2ICFHtt4kk",
        "outputId": "3658d785-0715-4ab2-e96e-729382c8b3eb",
        "colab": {
          "base_uri": "https://localhost:8080/",
          "height": 54
        }
      },
      "source": [
        "A = test[:-3]['close']\n",
        "B = predicted_close['close']\n",
        "\n",
        "print(f'De-normalized RMSE: {rmse(A, B):.2f}')\n",
        "print(f'De-normalized MAPE: {mape(A, B):.2f}')"
      ],
      "execution_count": 29,
      "outputs": [
        {
          "output_type": "stream",
          "text": [
            "De-normalized RMSE: 352.16\n",
            "De-normalized MAPE: 6.77\n"
          ],
          "name": "stdout"
        }
      ]
    },
    {
      "cell_type": "code",
      "metadata": {
        "id": "bXQjo6M9x3J4"
      },
      "source": [
        ""
      ],
      "execution_count": null,
      "outputs": []
    }
  ]
}